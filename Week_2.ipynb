{
 "cells": [
  {
   "cell_type": "code",
   "execution_count": 15,
   "id": "ff4d23c6",
   "metadata": {},
   "outputs": [],
   "source": [
    "import pandas as pd\n",
    "import numpy as np\n",
    "import seaborn as sns"
   ]
  },
  {
   "cell_type": "code",
   "execution_count": 16,
   "id": "9f3fc10e",
   "metadata": {},
   "outputs": [],
   "source": [
    "#load all the datasets into dataframes \n",
    "sales_data= pd.read_csv(\"C:/Users/HP/Desktop/Uptrail/Week 2/Datasets/sales_data.csv\")\n",
    "customer_data= pd.read_csv(\"C:/Users/HP/Desktop/Uptrail/Week 2/Datasets/customer_info.csv\")\n",
    "product_data= pd.read_csv(\"C:/Users/HP/Desktop/Uptrail/Week 2/Datasets/product_info.csv\")\n",
    "# df3.head(5)"
   ]
  },
  {
   "cell_type": "code",
   "execution_count": 17,
   "id": "ff569b89",
   "metadata": {},
   "outputs": [
    {
     "name": "stdout",
     "output_type": "stream",
     "text": [
      "                  Missing Values  Percentage (%)\n",
      "order_id                       1            0.03\n",
      "customer_id                    2            0.07\n",
      "product_id                     5            0.17\n",
      "quantity                       3            0.10\n",
      "unit_price                     1            0.03\n",
      "order_date                     3            0.10\n",
      "delivery_status                3            0.10\n",
      "payment_method                 3            0.10\n",
      "region                         0            0.00\n",
      "discount_applied             517           17.23\n"
     ]
    }
   ],
   "source": [
    "missing_counts = sales_data.isnull().sum()\n",
    "\n",
    "# Percentage of missing values per column\n",
    "missing_percentages = (missing_counts / len(sales_data)) * 100\n",
    "\n",
    "# Combining into one summary DataFrame\n",
    "missing_summary = pd.DataFrame({\n",
    "    'Missing Values': missing_counts,\n",
    "    'Percentage (%)': missing_percentages.round(2)\n",
    "})\n",
    "\n",
    "\n",
    "print(missing_summary)"
   ]
  },
  {
   "cell_type": "markdown",
   "id": "4e2eec5e",
   "metadata": {},
   "source": [
    "Cleaning Sales dataset"
   ]
  },
  {
   "cell_type": "markdown",
   "id": "26cc4f62",
   "metadata": {},
   "source": [
    "Cleaning quantity column "
   ]
  },
  {
   "cell_type": "code",
   "execution_count": 18,
   "id": "b4247cd1",
   "metadata": {},
   "outputs": [
    {
     "data": {
      "text/plain": [
       "array(['3', '5', '1', '2', '4', nan, 'three', 'five'], dtype=object)"
      ]
     },
     "execution_count": 18,
     "metadata": {},
     "output_type": "execute_result"
    }
   ],
   "source": [
    "#Cleaning quantity column\n",
    "sales_data['quantity'].unique()\n",
    "# sales_data['quantity'].count()"
   ]
  },
  {
   "cell_type": "code",
   "execution_count": 19,
   "id": "8e200f78",
   "metadata": {},
   "outputs": [
    {
     "name": "stdout",
     "output_type": "stream",
     "text": [
      "[ 3.  5.  1.  2.  4. nan]\n",
      "3\n"
     ]
    }
   ],
   "source": [
    "sales_data['quantity'] = sales_data['quantity'].replace({\n",
    "    'three': '3',\n",
    "    'five':'5'\n",
    "})\n",
    "\n",
    "sales_data['quantity'] = pd.to_numeric(sales_data['quantity'], errors='coerce')\n",
    "\n",
    "print(sales_data['quantity'].unique())\n",
    "print(sales_data['quantity'].isna().sum())"
   ]
  },
  {
   "cell_type": "code",
   "execution_count": 20,
   "id": "951dc365",
   "metadata": {},
   "outputs": [
    {
     "name": "stdout",
     "output_type": "stream",
     "text": [
      "0\n",
      "[3. 5. 1. 2. 4.]\n"
     ]
    }
   ],
   "source": [
    "#filling null vlaues with most common quantity\n",
    "sales_data['quantity'].fillna(sales_data['quantity'].mode()[0], inplace=True)\n",
    "print(sales_data['quantity'].isna().sum())\n",
    "print(sales_data['quantity'].unique())"
   ]
  },
  {
   "cell_type": "markdown",
   "id": "f23612bf",
   "metadata": {},
   "source": [
    "Cleaning unit_price column"
   ]
  },
  {
   "cell_type": "code",
   "execution_count": 21,
   "id": "9cafe559",
   "metadata": {},
   "outputs": [
    {
     "data": {
      "text/plain": [
       "<Axes: xlabel='unit_price'>"
      ]
     },
     "execution_count": 21,
     "metadata": {},
     "output_type": "execute_result"
    },
    {
     "data": {
      "image/png": "[encoded data removed]",
      "text/plain": [
       "<Figure size 640x480 with 1 Axes>"
      ]
     },
     "metadata": {},
     "output_type": "display_data"
    }
   ],
   "source": [
    "sns.boxplot(x=sales_data['unit_price'])"
   ]
  },
  {
   "cell_type": "code",
   "execution_count": 23,
   "id": "c7796c76",
   "metadata": {},
   "outputs": [
    {
     "data": {
      "text/plain": [
       "1"
      ]
     },
     "execution_count": 23,
     "metadata": {},
     "output_type": "execute_result"
    }
   ],
   "source": [
    "sales_data['unit_price'].isna().sum()"
   ]
  },
  {
   "cell_type": "code",
   "execution_count": 28,
   "id": "bb993028",
   "metadata": {},
   "outputs": [
    {
     "data": {
      "text/plain": [
       "0"
      ]
     },
     "execution_count": 28,
     "metadata": {},
     "output_type": "execute_result"
    }
   ],
   "source": [
    "sales_data['unit_price'].fillna(sales_data['unit_price'].median(), inplace=True)\n",
    "sales_data['unit_price'].isna().sum()\n"
   ]
  },
  {
   "cell_type": "code",
   "execution_count": 27,
   "id": "6c4a7bd8",
   "metadata": {},
   "outputs": [
    {
     "name": "stdout",
     "output_type": "stream",
     "text": [
      "float64\n"
     ]
    }
   ],
   "source": [
    "print(sales_data['unit_price'].dtype)"
   ]
  },
  {
   "cell_type": "code",
   "execution_count": null,
   "id": "b0639660",
   "metadata": {},
   "outputs": [],
   "source": []
  }
 ],
 "metadata": {
  "kernelspec": {
   "display_name": "Python 3",
   "language": "python",
   "name": "python3"
  },
  "language_info": {
   "codemirror_mode": {
    "name": "ipython",
    "version": 3
   },
   "file_extension": ".py",
   "mimetype": "text/x-python",
   "name": "python",
   "nbconvert_exporter": "python",
   "pygments_lexer": "ipython3",
   "version": "3.11.2"
  }
 },
 "nbformat": 4,
 "nbformat_minor": 5
}
