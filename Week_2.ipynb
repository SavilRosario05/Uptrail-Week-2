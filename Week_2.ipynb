{
 "cells": [
  {
   "cell_type": "code",
   "execution_count": 1,
   "id": "ff4d23c6",
   "metadata": {},
   "outputs": [],
   "source": [
    "import pandas as pd"
   ]
  },
  {
   "cell_type": "code",
   "execution_count": 11,
   "id": "9f3fc10e",
   "metadata": {},
   "outputs": [],
   "source": [
    "df1= pd.read_csv(\"C:/Users/HP/Desktop/Uptrail/Week 2/Datasets/sales_data.csv\")\n",
    "df2= pd.read_csv(\"C:/Users/HP/Desktop/Uptrail/Week 2/Datasets/customer_info.csv\")\n",
    "df3= pd.read_csv(\"C:/Users/HP/Desktop/Uptrail/Week 2/Datasets/product_info.csv\")\n",
    "# df3.head(5)"
   ]
  },
  {
   "cell_type": "code",
   "execution_count": null,
   "id": "b4247cd1",
   "metadata": {},
   "outputs": [],
   "source": []
  }
 ],
 "metadata": {
  "kernelspec": {
   "display_name": "Python 3",
   "language": "python",
   "name": "python3"
  },
  "language_info": {
   "codemirror_mode": {
    "name": "ipython",
    "version": 3
   },
   "file_extension": ".py",
   "mimetype": "text/x-python",
   "name": "python",
   "nbconvert_exporter": "python",
   "pygments_lexer": "ipython3",
   "version": "3.11.2"
  }
 },
 "nbformat": 4,
 "nbformat_minor": 5
}
